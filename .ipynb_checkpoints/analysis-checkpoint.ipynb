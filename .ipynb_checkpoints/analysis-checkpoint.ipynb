{
 "cells": [
  {
   "cell_type": "code",
   "execution_count": 1,
   "id": "6f9e9de2-8e49-45b1-a4de-a96a26feb88a",
   "metadata": {},
   "outputs": [],
   "source": [
    "import numpy as np # linear algebra\n",
    "import pandas as pd # data processing, CSV file I/O (e.g. pd.read_csv)"
   ]
  },
  {
   "cell_type": "code",
   "execution_count": 2,
   "id": "eceafe59-50f7-4ecc-8a24-3b3a857900ec",
   "metadata": {},
   "outputs": [
    {
     "name": "stdout",
     "output_type": "stream",
     "text": [
      "  Job ID            Job Title Company Name Job Location    Job Type  \\\n",
      "0   JOB1    Software Engineer       Amazon    Ahmedabad   Full-time   \n",
      "1   JOB2  Marketing Executive      Infosys    Ahmedabad  Internship   \n",
      "2   JOB3    Financial Analyst     Deloitte       Jaipur    Contract   \n",
      "3   JOB4     Business Analyst       Amazon        Delhi   Full-time   \n",
      "4   JOB5    Software Engineer      Infosys        Delhi   Full-time   \n",
      "\n",
      "  Salary Range Experience Required Posted Date Application Deadline  \\\n",
      "0      5-8 LPA           2-5 years  2025-01-16           2025-01-25   \n",
      "1      5-8 LPA           2-5 years  2024-12-25           2025-01-19   \n",
      "2      20+ LPA          5-10 years  2025-01-22           2025-01-29   \n",
      "3      20+ LPA           2-5 years  2025-01-07           2025-02-06   \n",
      "4    12-20 LPA           10+ years  2024-12-26           2025-01-08   \n",
      "\n",
      "   Job Portal  Number of Applicants Education Requirement  \\\n",
      "0    LinkedIn                    23                   PhD   \n",
      "1      Indeed                   462                   MBA   \n",
      "2  Naukri.com                   430                M.Tech   \n",
      "3    LinkedIn                   387                B.Tech   \n",
      "4      Indeed                   199                   MBA   \n",
      "\n",
      "                  Skills Required Remote/Onsite  Company Size  \n",
      "0                C++, SQL, Python        Remote  Small (1-50)  \n",
      "1                SQL, C++, Python        Remote  Large (500+)  \n",
      "2  Machine Learning, Excel, React        Remote  Large (500+)  \n",
      "3   Machine Learning, Python, SQL        Hybrid  Small (1-50)  \n",
      "4                UI/UX, C++, Java        Onsite  Small (1-50)  \n"
     ]
    }
   ],
   "source": [
    "data = pd.read_csv('india_job_market_dataset.csv')\n",
    "df = data\n",
    "print(df.head(5))"
   ]
  },
  {
   "cell_type": "code",
   "execution_count": 3,
   "id": "8f96f310-274f-4b07-889a-9c6a3a6acdb8",
   "metadata": {},
   "outputs": [
    {
     "name": "stdout",
     "output_type": "stream",
     "text": [
      "\n",
      "Dataset Info:\n",
      "<class 'pandas.core.frame.DataFrame'>\n",
      "RangeIndex: 20000 entries, 0 to 19999\n",
      "Data columns (total 15 columns):\n",
      " #   Column                 Non-Null Count  Dtype \n",
      "---  ------                 --------------  ----- \n",
      " 0   Job ID                 20000 non-null  object\n",
      " 1   Job Title              20000 non-null  object\n",
      " 2   Company Name           20000 non-null  object\n",
      " 3   Job Location           20000 non-null  object\n",
      " 4   Job Type               20000 non-null  object\n",
      " 5   Salary Range           20000 non-null  object\n",
      " 6   Experience Required    20000 non-null  object\n",
      " 7   Posted Date            20000 non-null  object\n",
      " 8   Application Deadline   20000 non-null  object\n",
      " 9   Job Portal             20000 non-null  object\n",
      " 10  Number of Applicants   20000 non-null  int64 \n",
      " 11  Education Requirement  20000 non-null  object\n",
      " 12  Skills Required        20000 non-null  object\n",
      " 13  Remote/Onsite          20000 non-null  object\n",
      " 14  Company Size           20000 non-null  object\n",
      "dtypes: int64(1), object(14)\n",
      "memory usage: 2.3+ MB\n"
     ]
    }
   ],
   "source": [
    "print(\"\\nDataset Info:\")\n",
    "data.info()\n"
   ]
  },
  {
   "cell_type": "code",
   "execution_count": 4,
   "id": "f6ea5274-da89-4180-a32b-8d446502a6f6",
   "metadata": {},
   "outputs": [
    {
     "name": "stdout",
     "output_type": "stream",
     "text": [
      "Missing values: \n",
      "\n",
      "Job ID                   0\n",
      "Job Title                0\n",
      "Company Name             0\n",
      "Job Location             0\n",
      "Job Type                 0\n",
      "Salary Range             0\n",
      "Experience Required      0\n",
      "Posted Date              0\n",
      "Application Deadline     0\n",
      "Job Portal               0\n",
      "Number of Applicants     0\n",
      "Education Requirement    0\n",
      "Skills Required          0\n",
      "Remote/Onsite            0\n",
      "Company Size             0\n",
      "dtype: int64\n"
     ]
    }
   ],
   "source": [
    "print(\"Missing values: \\n\")\n",
    "print(data.isnull().sum())"
   ]
  },
  {
   "cell_type": "code",
   "execution_count": 5,
   "id": "4f6c720c-889b-4798-8491-87b2a06189b3",
   "metadata": {},
   "outputs": [
    {
     "name": "stdout",
     "output_type": "stream",
     "text": [
      "\n",
      "Summary Statistics:\n",
      "       Number of Applicants\n",
      "count          20000.000000\n",
      "mean             256.723300\n",
      "std              141.745833\n",
      "min               10.000000\n",
      "25%              134.000000\n",
      "50%              258.000000\n",
      "75%              380.000000\n",
      "max              500.000000\n"
     ]
    }
   ],
   "source": [
    "print(\"\\nSummary Statistics:\")\n",
    "print(data.describe())"
   ]
  },
  {
   "cell_type": "code",
   "execution_count": 6,
   "id": "e4dfa8ff-b5dd-42a5-af4a-5bf8be4b23a9",
   "metadata": {},
   "outputs": [
    {
     "name": "stdout",
     "output_type": "stream",
     "text": [
      "\n",
      "Columns in the dataset:\n",
      "Index(['Job ID', 'Job Title', 'Company Name', 'Job Location', 'Job Type',\n",
      "       'Salary Range', 'Experience Required', 'Posted Date',\n",
      "       'Application Deadline', 'Job Portal', 'Number of Applicants',\n",
      "       'Education Requirement', 'Skills Required', 'Remote/Onsite',\n",
      "       'Company Size'],\n",
      "      dtype='object')\n"
     ]
    }
   ],
   "source": [
    "print(\"\\nColumns in the dataset:\")\n",
    "print(data.columns)"
   ]
  },
  {
   "cell_type": "code",
   "execution_count": 8,
   "id": "c188832a-bc48-44c0-9bb0-72cc679cf3d2",
   "metadata": {
    "scrolled": true
   },
   "outputs": [
    {
     "name": "stdout",
     "output_type": "stream",
     "text": [
      "Sample Dataset:\n",
      "          Job ID             Job Title Company Name Job Location    Job Type  \\\n",
      "0          JOB1     Software Engineer       Amazon    Ahmedabad   Full-time   \n",
      "1          JOB2   Marketing Executive      Infosys    Ahmedabad  Internship   \n",
      "2          JOB3     Financial Analyst     Deloitte       Jaipur    Contract   \n",
      "3          JOB4      Business Analyst       Amazon        Delhi   Full-time   \n",
      "4          JOB5     Software Engineer      Infosys        Delhi   Full-time   \n",
      "...         ...                   ...          ...          ...         ...   \n",
      "19995  JOB19996   Marketing Executive     Deloitte         Pune   Full-time   \n",
      "19996  JOB19997      Business Analyst    Accenture    Bangalore  Internship   \n",
      "19997  JOB19998      Graphic Designer        Wipro       Jaipur   Part-time   \n",
      "19998  JOB19999  Sales Representative      Infosys      Kolkata  Internship   \n",
      "19999  JOB20000      Business Analyst    Accenture       Mumbai   Part-time   \n",
      "\n",
      "      Salary Range Experience Required Posted Date Application Deadline  \\\n",
      "0          5-8 LPA           2-5 years  2025-01-16           2025-01-25   \n",
      "1          5-8 LPA           2-5 years  2024-12-25           2025-01-19   \n",
      "2          20+ LPA          5-10 years  2025-01-22           2025-01-29   \n",
      "3          20+ LPA           2-5 years  2025-01-07           2025-02-06   \n",
      "4        12-20 LPA           10+ years  2024-12-26           2025-01-08   \n",
      "...            ...                 ...         ...                  ...   \n",
      "19995      5-8 LPA           2-5 years  2025-01-13           2025-02-05   \n",
      "19996      20+ LPA           0-2 years  2025-01-08           2025-01-27   \n",
      "19997      5-8 LPA          5-10 years  2024-12-26           2025-01-16   \n",
      "19998    12-20 LPA           2-5 years  2025-01-20           2025-02-09   \n",
      "19999      5-8 LPA           0-2 years  2024-12-30           2025-01-13   \n",
      "\n",
      "       Job Portal  Number of Applicants Education Requirement  \\\n",
      "0        LinkedIn                    23                   PhD   \n",
      "1          Indeed                   462                   MBA   \n",
      "2      Naukri.com                   430                M.Tech   \n",
      "3        LinkedIn                   387                B.Tech   \n",
      "4          Indeed                   199                   MBA   \n",
      "...           ...                   ...                   ...   \n",
      "19995      Indeed                   171                   PhD   \n",
      "19996    LinkedIn                   482                   MBA   \n",
      "19997  Naukri.com                   319                   PhD   \n",
      "19998  Naukri.com                   178                M.Tech   \n",
      "19999      Indeed                    88                  B.Sc   \n",
      "\n",
      "                                  Skills Required Remote/Onsite  \\\n",
      "0                                C++, SQL, Python        Remote   \n",
      "1                                SQL, C++, Python        Remote   \n",
      "2                  Machine Learning, Excel, React        Remote   \n",
      "3                   Machine Learning, Python, SQL        Hybrid   \n",
      "4                                UI/UX, C++, Java        Onsite   \n",
      "...                                           ...           ...   \n",
      "19995               Machine Learning, Python, AWS        Remote   \n",
      "19996  Digital Marketing, React, Machine Learning        Onsite   \n",
      "19997  Machine Learning, Excel, Digital Marketing        Onsite   \n",
      "19998                           Excel, C++, React        Onsite   \n",
      "19999                           Java, C++, Python        Remote   \n",
      "\n",
      "          Company Size  \n",
      "0         Small (1-50)  \n",
      "1         Large (500+)  \n",
      "2         Large (500+)  \n",
      "3         Small (1-50)  \n",
      "4         Small (1-50)  \n",
      "...                ...  \n",
      "19995     Small (1-50)  \n",
      "19996  Medium (51-500)  \n",
      "19997     Small (1-50)  \n",
      "19998     Large (500+)  \n",
      "19999  Medium (51-500)  \n",
      "\n",
      "[20000 rows x 15 columns]\n"
     ]
    }
   ],
   "source": [
    "df = pd.DataFrame(data)\n",
    "print(\"Sample Dataset:\\n\", df)"
   ]
  },
  {
   "cell_type": "markdown",
   "id": "c7b456ff-bd13-42c9-9ea9-9a30f74cb59a",
   "metadata": {},
   "source": [
    "printing diff counts"
   ]
  },
  {
   "cell_type": "code",
   "execution_count": 21,
   "id": "bcb79bc0-bebc-4f21-a000-a28523c86fbe",
   "metadata": {},
   "outputs": [
    {
     "name": "stdout",
     "output_type": "stream",
     "text": [
      "\n",
      " Job Titles and no. of requirements:\n",
      "Cyber Security Analyst    2085\n",
      "Marketing Executive       2036\n",
      "Graphic Designer          2013\n",
      "Financial Analyst         2008\n",
      "Product Manager           2006\n",
      "Business Analyst          1989\n",
      "Data Scientist            1976\n",
      "HR Manager                1974\n",
      "Software Engineer         1971\n",
      "Sales Representative      1942\n",
      "Name: Job Title, dtype: int64\n"
     ]
    }
   ],
   "source": [
    "print(\"\\n Job Titles and no. of requirements:\")\n",
    "job_title_counts = df['Job Title'].value_counts()\n",
    "print(job_title_counts)"
   ]
  },
  {
   "cell_type": "code",
   "execution_count": 24,
   "id": "8fa50b13-dc69-4fa5-bae7-d372fa4cf830",
   "metadata": {},
   "outputs": [
    {
     "name": "stdout",
     "output_type": "stream",
     "text": [
      "\n",
      " Job Location and no. of requirement their:\n",
      "Hyderabad    2055\n",
      "Bangalore    2023\n",
      "Ahmedabad    2019\n",
      "Jaipur       2019\n",
      "Chennai      2018\n",
      "Noida        1993\n",
      "Delhi        1990\n",
      "Pune         1970\n",
      "Mumbai       1958\n",
      "Kolkata      1955\n",
      "Name: Job Location, dtype: int64\n"
     ]
    }
   ],
   "source": [
    "print(\"\\n Job Location and no. of requirement their:\")\n",
    "job_location_counts = df['Job Location'].value_counts()\n",
    "print(job_location_counts)"
   ]
  },
  {
   "cell_type": "code",
   "execution_count": 23,
   "id": "43d5de08-29fc-426e-886f-d57786759d94",
   "metadata": {},
   "outputs": [
    {
     "name": "stdout",
     "output_type": "stream",
     "text": [
      "\n",
      " Job type and no. of availability\n",
      "Part-time     5111\n",
      "Internship    5085\n",
      "Full-time     4981\n",
      "Contract      4823\n",
      "Name: Job Type, dtype: int64\n"
     ]
    }
   ],
   "source": [
    "print(\"\\n Job type and no. of availability\")\n",
    "job_type_counts = df['Job Type'].value_counts()\n",
    "print(job_type_counts)"
   ]
  },
  {
   "cell_type": "code",
   "execution_count": 25,
   "id": "bbffb9c4-91ff-4a32-994c-c2b6a2f6e913",
   "metadata": {},
   "outputs": [
    {
     "name": "stdout",
     "output_type": "stream",
     "text": [
      "\n",
      " Company name and  and no. of Job there:\n",
      "Amazon       2086\n",
      "Wipro        2069\n",
      "HCL          2023\n",
      "Google       2004\n",
      "Deloitte     1983\n",
      "Infosys      1981\n",
      "TCS          1979\n",
      "Microsoft    1977\n",
      "Accenture    1954\n",
      "IBM          1944\n",
      "Name: Company Name, dtype: int64\n"
     ]
    }
   ],
   "source": [
    "print(\"\\n Company name and  and no. of Job there:\")\n",
    "company_name_counts = df['Company Name'].value_counts()\n",
    "print(company_name_counts)"
   ]
  },
  {
   "cell_type": "code",
   "execution_count": 40,
   "id": "a0b76726-ed22-4faf-b1bd-7aeaf7f4c331",
   "metadata": {
    "scrolled": true
   },
   "outputs": [
    {
     "name": "stdout",
     "output_type": "stream",
     "text": [
      "\n",
      " Company name and education requiremnet there:\n",
      "Company Name  Education Requirement\n",
      "Accenture     B.Sc                     392\n",
      "              B.Tech                   398\n",
      "              M.Tech                   397\n",
      "              MBA                      401\n",
      "              PhD                      366\n",
      "Amazon        B.Sc                     416\n",
      "              B.Tech                   413\n",
      "              M.Tech                   397\n",
      "              MBA                      437\n",
      "              PhD                      423\n",
      "Deloitte      B.Sc                     400\n",
      "              B.Tech                   383\n",
      "              M.Tech                   418\n",
      "              MBA                      363\n",
      "              PhD                      419\n",
      "Google        B.Sc                     413\n",
      "              B.Tech                   414\n",
      "              M.Tech                   414\n",
      "              MBA                      404\n",
      "              PhD                      359\n",
      "HCL           B.Sc                     413\n",
      "              B.Tech                   427\n",
      "              M.Tech                   371\n",
      "              MBA                      403\n",
      "              PhD                      409\n",
      "IBM           B.Sc                     369\n",
      "              B.Tech                   401\n",
      "              M.Tech                   386\n",
      "              MBA                      401\n",
      "              PhD                      387\n",
      "Infosys       B.Sc                     409\n",
      "              B.Tech                   392\n",
      "              M.Tech                   396\n",
      "              MBA                      393\n",
      "              PhD                      391\n",
      "Microsoft     B.Sc                     409\n",
      "              B.Tech                   389\n",
      "              M.Tech                   365\n",
      "              MBA                      416\n",
      "              PhD                      398\n",
      "TCS           B.Sc                     396\n",
      "              B.Tech                   384\n",
      "              M.Tech                   399\n",
      "              MBA                      370\n",
      "              PhD                      430\n",
      "Wipro         B.Sc                     406\n",
      "              B.Tech                   413\n",
      "              M.Tech                   440\n",
      "              MBA                      398\n",
      "              PhD                      412\n",
      "dtype: int64\n"
     ]
    }
   ],
   "source": [
    "print(\"\\n Company name and education requiremnet there:\")\n",
    "\n",
    "company_name_and_education_requirement = df.groupby(['Company Name', 'Education Requirement']).size()\n",
    "\n",
    "print(company_name_and_education_requirement)"
   ]
  },
  {
   "cell_type": "code",
   "execution_count": 41,
   "id": "2aca9def-b43b-4d6e-a6d5-6b6b5339702f",
   "metadata": {
    "scrolled": true
   },
   "outputs": [
    {
     "name": "stdout",
     "output_type": "stream",
     "text": [
      "\n",
      " Company name and remote/onsite there:\n",
      "Company Name  Remote/Onsite\n",
      "Accenture     Hybrid           617\n",
      "              Onsite           682\n",
      "              Remote           655\n",
      "Amazon        Hybrid           689\n",
      "              Onsite           710\n",
      "              Remote           687\n",
      "Deloitte      Hybrid           621\n",
      "              Onsite           681\n",
      "              Remote           681\n",
      "Google        Hybrid           659\n",
      "              Onsite           656\n",
      "              Remote           689\n",
      "HCL           Hybrid           691\n",
      "              Onsite           684\n",
      "              Remote           648\n",
      "IBM           Hybrid           625\n",
      "              Onsite           642\n",
      "              Remote           677\n",
      "Infosys       Hybrid           608\n",
      "              Onsite           669\n",
      "              Remote           704\n",
      "Microsoft     Hybrid           630\n",
      "              Onsite           655\n",
      "              Remote           692\n",
      "TCS           Hybrid           709\n",
      "              Onsite           651\n",
      "              Remote           619\n",
      "Wipro         Hybrid           712\n",
      "              Onsite           667\n",
      "              Remote           690\n",
      "dtype: int64\n"
     ]
    }
   ],
   "source": [
    "print(\"\\n Company name and remote/onsite there:\")\n",
    "\n",
    "company_name_and_remote_onsite = df.groupby(['Company Name', 'Remote/Onsite']).size()\n",
    "\n",
    "print(company_name_and_remote_onsite)"
   ]
  },
  {
   "cell_type": "code",
   "execution_count": 42,
   "id": "3c1a7849-2301-47bf-9d81-1151229d4bc9",
   "metadata": {
    "scrolled": true
   },
   "outputs": [
    {
     "name": "stdout",
     "output_type": "stream",
     "text": [
      "\n",
      " Company name and Job type available there:\n",
      "Company Name  Job Type  \n",
      "Accenture     Contract      476\n",
      "              Full-time     503\n",
      "              Internship    516\n",
      "              Part-time     459\n",
      "Amazon        Contract      469\n",
      "              Full-time     529\n",
      "              Internship    551\n",
      "              Part-time     537\n",
      "Deloitte      Contract      502\n",
      "              Full-time     491\n",
      "              Internship    496\n",
      "              Part-time     494\n",
      "Google        Contract      458\n",
      "              Full-time     496\n",
      "              Internship    510\n",
      "              Part-time     540\n",
      "HCL           Contract      524\n",
      "              Full-time     513\n",
      "              Internship    475\n",
      "              Part-time     511\n",
      "IBM           Contract      470\n",
      "              Full-time     475\n",
      "              Internship    492\n",
      "              Part-time     507\n",
      "Infosys       Contract      483\n",
      "              Full-time     487\n",
      "              Internship    521\n",
      "              Part-time     490\n",
      "Microsoft     Contract      488\n",
      "              Full-time     447\n",
      "              Internship    509\n",
      "              Part-time     533\n",
      "TCS           Contract      466\n",
      "              Full-time     501\n",
      "              Internship    488\n",
      "              Part-time     524\n",
      "Wipro         Contract      487\n",
      "              Full-time     539\n",
      "              Internship    527\n",
      "              Part-time     516\n",
      "dtype: int64\n"
     ]
    }
   ],
   "source": [
    "print(\"\\n Company name and Job type available there:\")\n",
    "\n",
    "company_name_and_job_typecounts = df.groupby(['Company Name', 'Job Type']).size()\n",
    "\n",
    "print(company_name_and_job_typecounts)"
   ]
  },
  {
   "cell_type": "code",
   "execution_count": 36,
   "id": "7e6ca9e5-2013-48ac-81bf-b88ecd048e75",
   "metadata": {
    "scrolled": true
   },
   "outputs": [
    {
     "name": "stdout",
     "output_type": "stream",
     "text": [
      "\n",
      " ob Portal and Job Location:\n",
      "Job Portal  Job Location\n",
      "Indeed      Ahmedabad       715\n",
      "            Bangalore       682\n",
      "            Chennai         670\n",
      "            Delhi           692\n",
      "            Hyderabad       677\n",
      "            Jaipur          685\n",
      "            Kolkata         639\n",
      "            Mumbai          660\n",
      "            Noida           669\n",
      "            Pune            667\n",
      "LinkedIn    Ahmedabad       632\n",
      "            Bangalore       661\n",
      "            Chennai         630\n",
      "            Delhi           655\n",
      "            Hyderabad       656\n",
      "            Jaipur          657\n",
      "            Kolkata         640\n",
      "            Mumbai          638\n",
      "            Noida           638\n",
      "            Pune            646\n",
      "Naukri.com  Ahmedabad       672\n",
      "            Bangalore       680\n",
      "            Chennai         718\n",
      "            Delhi           643\n",
      "            Hyderabad       722\n",
      "            Jaipur          677\n",
      "            Kolkata         676\n",
      "            Mumbai          660\n",
      "            Noida           686\n",
      "            Pune            657\n",
      "dtype: int64\n"
     ]
    }
   ],
   "source": [
    "print(\"\\n ob Portal and Job Location:\")\n",
    "\n",
    "job_portal_and_job_location_counts = df.groupby(['Job Portal', 'Job Location']).size()\n",
    "\n",
    "print(job_portal_and_job_location_counts)"
   ]
  },
  {
   "cell_type": "code",
   "execution_count": 37,
   "id": "453e94d2-e9c3-407d-bb8a-4f2d0d46d43b",
   "metadata": {},
   "outputs": [
    {
     "name": "stdout",
     "output_type": "stream",
     "text": [
      "Distinct Skills:\n",
      "['Digital', 'Excel,', 'earning,', 'ct,', '1,', 'Java,', 'Marketing', 'C++,', 'AWS', 'Java', 'Python,', 'React', 'Required', 'Skills', 'Machine', 'SQL', 'Learning', 'SQL,', 'UI/UX,', 'Python', 'arning,']\n"
     ]
    }
   ],
   "source": [
    "from collections import Counter\n",
    "\n",
    "# Sample data (replace with the extracted text from your image)\n",
    "text_data = \"\"\"\n",
    "Skills Required\n",
    "C++, SQL, Python\n",
    "SQL, C++, Python\n",
    "arning, Excel, React\n",
    "earning, Python, SQL\n",
    "UI/UX, C++, Java\n",
    "earning, Python, AWS\n",
    "ct, Machine Learning\n",
    "1, Digital Marketing\n",
    "Excel, C++, React\n",
    "Java, C++, Python\n",
    "\"\"\"\n",
    "\n",
    "# Split the text into lines and extract skills\n",
    "skills = []\n",
    "for line in text_data.splitlines():\n",
    "    words = line.split()\n",
    "    skills.extend(words)  # Add all words to the list directly\n",
    "\n",
    "# Remove duplicates\n",
    "distinct_skills = list(set(skills))\n",
    "\n",
    "print(\"Distinct Skills:\")\n",
    "print(distinct_skills)"
   ]
  },
  {
   "cell_type": "code",
   "execution_count": null,
   "id": "cb847028-b2fd-4136-843c-9f39e50a7302",
   "metadata": {},
   "outputs": [],
   "source": []
  }
 ],
 "metadata": {
  "kernelspec": {
   "display_name": "Python 3 (ipykernel)",
   "language": "python",
   "name": "python3"
  },
  "language_info": {
   "codemirror_mode": {
    "name": "ipython",
    "version": 3
   },
   "file_extension": ".py",
   "mimetype": "text/x-python",
   "name": "python",
   "nbconvert_exporter": "python",
   "pygments_lexer": "ipython3",
   "version": "3.9.13"
  }
 },
 "nbformat": 4,
 "nbformat_minor": 5
}
